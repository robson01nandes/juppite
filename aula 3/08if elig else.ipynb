{
 "cells": [
  {
   "cell_type": "code",
   "execution_count": 3,
   "metadata": {
    "collapsed": false
   },
   "outputs": [
    {
     "name": "stdout",
     "output_type": "stream",
     "text": [
      "É verdadeiro\n"
     ]
    }
   ],
   "source": [
    "if True:\n",
    "    print('É verdadeiro')"
   ]
  },
  {
   "cell_type": "code",
   "execution_count": 9,
   "metadata": {
    "collapsed": false
   },
   "outputs": [
    {
     "name": "stdout",
     "output_type": "stream",
     "text": [
      "É verdadeiro\n"
     ]
    }
   ],
   "source": [
    "x=1\n",
    "if x>0:\n",
    "    print('É verdadeiro')\n",
    "else:\n",
    "        print('x é negativo')\n",
    "        \n"
   ]
  },
  {
   "cell_type": "code",
   "execution_count": 13,
   "metadata": {
    "collapsed": false
   },
   "outputs": [
    {
     "name": "stdout",
     "output_type": "stream",
     "text": [
      "x é negativo\n"
     ]
    }
   ],
   "source": [
    "x=-1\n",
    "if x>0:\n",
    "    print('É verdadeiro')\n",
    "elif x == 0:\n",
    "    print('x é nulo')\n",
    "else:\n",
    "        print('x é negativo')"
   ]
  },
  {
   "cell_type": "code",
   "execution_count": 16,
   "metadata": {
    "collapsed": false
   },
   "outputs": [
    {
     "name": "stdout",
     "output_type": "stream",
     "text": [
      "é verdadeiro\n",
      "dentro do if\n",
      "fora do if\n"
     ]
    }
   ],
   "source": [
    "if True:\n",
    "    print('é verdadeiro')\n",
    "    print('dentro do if')\n",
    "    print('fora do if')\n",
    "    \n",
    "    "
   ]
  },
  {
   "cell_type": "code",
   "execution_count": 19,
   "metadata": {
    "collapsed": false
   },
   "outputs": [
    {
     "name": "stdout",
     "output_type": "stream",
     "text": [
      "x é negativo\n"
     ]
    }
   ],
   "source": [
    "x=-1\n",
    "if x>0:\n",
    "    print('É verdadeiro')\n",
    "else: \n",
    "    if x == 0:\n",
    "         print('x é nulo')\n",
    "    else:\n",
    "         print('x é negativo')"
   ]
  },
  {
   "cell_type": "code",
   "execution_count": null,
   "metadata": {
    "collapsed": true
   },
   "outputs": [],
   "source": []
  }
 ],
 "metadata": {
  "kernelspec": {
   "display_name": "Python 3",
   "language": "python",
   "name": "python3"
  },
  "language_info": {
   "codemirror_mode": {
    "name": "ipython",
    "version": 3
   },
   "file_extension": ".py",
   "mimetype": "text/x-python",
   "name": "python",
   "nbconvert_exporter": "python",
   "pygments_lexer": "ipython3",
   "version": "3.6.0"
  }
 },
 "nbformat": 4,
 "nbformat_minor": 2
}
